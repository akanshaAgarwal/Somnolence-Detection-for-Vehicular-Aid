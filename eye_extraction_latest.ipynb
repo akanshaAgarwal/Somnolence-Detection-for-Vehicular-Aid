{
 "cells": [
  {
   "cell_type": "code",
   "execution_count": 8,
   "metadata": {},
   "outputs": [],
   "source": [
    "import cv2\n",
    "import numpy as np\n",
    "\n",
    "# Load the Haar cascade files for face and eye\n",
    "face_cascade = cv2.CascadeClassifier('haarcascade_frontalface_default.xml')\n",
    "eye_cascade = cv2.CascadeClassifier('haarcascade_eye.xml')\n",
    "\n",
    "# Check if the face cascade file has been loaded correctly\n",
    "if face_cascade.empty():\n",
    "    raise IOError('Unable to load the face cascade classifier xml file')\n",
    "\n",
    "# Check if the eye cascade file has been loaded correctly\n",
    "if eye_cascade.empty():\n",
    "    raise IOError('Unable to load the eye cascade classifier xml file')\n",
    "\n",
    "# Initialize the object\n",
    "frame = cv2.imread(\"y1.jpg\")\n",
    "\n",
    "# Define the scaling factor\n",
    "ds_factor = 0.5\n",
    "\n",
    "# Resize the frame\n",
    "frame = cv2.resize(frame, None, fx=ds_factor, fy=ds_factor, interpolation=cv2.INTER_AREA)\n",
    "\n",
    "# Convert to grayscale\n",
    "gray = cv2.cvtColor(frame, cv2.COLOR_BGR2GRAY)\n",
    "# Run the face detector on the grayscale image\n",
    "faces = face_cascade.detectMultiScale(gray, 1.3, 5)\n",
    "\n",
    "# For each face that's detected, run the eye detector\n",
    "for (x,y,w,h) in faces:\n",
    "    # Extract the grayscale face ROI\n",
    "    roi_gray = gray[y:y+h, x:x+w]\n",
    "\n",
    "    # Extract the color face ROI\n",
    "    roi_color = frame[y:y+h, x:x+w]\n",
    "\n",
    "    # Run the eye detector on the grayscale ROI\n",
    "    eyes = eye_cascade.detectMultiScale(roi_gray)\n",
    "\n",
    "    # Draw circles around the eyes\n",
    "    count =0\n",
    "    for (x_eye,y_eye,w_eye,h_eye) in eyes:\n",
    "        count = count+1\n",
    "        center = (int(x_eye + 0.5*w_eye), int(y_eye + 0.5*h_eye))\n",
    "        radius = int(0.3 * (w_eye + h_eye))\n",
    "        color = (0, 255, 0)\n",
    "        thickness = 3\n",
    "        #cv2.circle(roi_color, center, radius, color, thickness)\n",
    "        eye_roi = roi_color[y_eye : y_eye+h_eye , x_eye : x_eye+w_eye]\n",
    "        cv2.imwrite(\"Eye_\"+str(count)+\"_Detector.jpg\", eye_roi)\n",
    "\n"
   ]
  },
  {
   "cell_type": "code",
   "execution_count": 12,
   "metadata": {},
   "outputs": [
    {
     "name": "stdout",
     "output_type": "stream",
     "text": [
      "1192\n"
     ]
    }
   ],
   "source": [
    "import cv2\n",
    "import numpy as np\n",
    "import os\n",
    "\n",
    "folderpath = \"dataset/ClosedFace/\"#NEURAL_NETWORK/drowsiness_detection/dataset/mouth/yawn/yawn/\"\n",
    "# Load the Haar cascade files for face and eye\n",
    "face_cascade = cv2.CascadeClassifier('haarcascade_frontalface_default.xml')\n",
    "eye_cascade = cv2.CascadeClassifier('haarcascade_eye.xml')\n",
    "\n",
    "# Check if the face cascade file has been loaded correctly\n",
    "if face_cascade.empty():\n",
    "    raise IOError('Unable to load the face cascade classifier xml file')\n",
    "\n",
    "# Check if the eye cascade file has been loaded correctly\n",
    "if eye_cascade.empty():\n",
    "    raise IOError('Unable to load the eye cascade classifier xml file')\n",
    "\n",
    "#user supplies the folderpath and cascpath in a terminal/command prompt\n",
    "#predictor_path is already set\n",
    "\n",
    "imageformat = \".jpg\"\n",
    "path = folderpath\n",
    "imfilelist = [os.path.join(path,f) for f in os.listdir(path) if f.endswith(imageformat)]\n",
    "#print(len(imfilelist))\n",
    "#only images with \".tif\" extensions in the folder interest us, we create a\n",
    "#list with paths to those images    \n",
    "img_number = 0\n",
    "print(len(imfilelist))\n",
    "for IMG in imfilelist:\n",
    "    image = cv2.imread(IMG) #this for-loop iterates through images we need\n",
    "    img_number = img_number + 1\n",
    "    #eye_cascade = cv2.CascadeClassifier('haarcascade_eye.xml')\n",
    "    eye = eye_cascade.detectMultiScale(image)\n",
    "    count = 0\n",
    "    for (x,y,w,h) in eye:\n",
    "        eye = image[y : y+h , x : x+w]\n",
    "        count = count + 1\n",
    "        cv2.imwrite('new_dataset/closed/c_eye_'+str(img_number)+\"_\"+str(count)+'.jpg', eye)"
   ]
  },
  {
   "cell_type": "code",
   "execution_count": null,
   "metadata": {},
   "outputs": [],
   "source": []
  }
 ],
 "metadata": {
  "kernelspec": {
   "display_name": "Python 3",
   "language": "python",
   "name": "python3"
  },
  "language_info": {
   "codemirror_mode": {
    "name": "ipython",
    "version": 3
   },
   "file_extension": ".py",
   "mimetype": "text/x-python",
   "name": "python",
   "nbconvert_exporter": "python",
   "pygments_lexer": "ipython3",
   "version": "3.6.7"
  }
 },
 "nbformat": 4,
 "nbformat_minor": 2
}
